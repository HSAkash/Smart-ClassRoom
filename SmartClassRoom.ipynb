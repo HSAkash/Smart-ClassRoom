{
  "nbformat": 4,
  "nbformat_minor": 0,
  "metadata": {
    "colab": {
      "provenance": [],
      "gpuType": "T4"
    },
    "kernelspec": {
      "name": "python3",
      "display_name": "Python 3"
    },
    "language_info": {
      "name": "python"
    },
    "accelerator": "GPU"
  },
  "cells": [
    {
      "cell_type": "markdown",
      "source": [
        "## Data import"
      ],
      "metadata": {
        "id": "0JNYZxu403dd"
      }
    },
    {
      "cell_type": "code",
      "source": [
        "! pip install gdown\n",
        "from IPython import display\n",
        "display.clear_output()"
      ],
      "metadata": {
        "id": "2c6b0XpIZafW"
      },
      "execution_count": null,
      "outputs": []
    },
    {
      "cell_type": "code",
      "source": [
        "! gdown 14isqC-JCu9_uztKXftKT-VZhYN_rwHrx\n",
        "! gdown 1HDHm55EZXpHDX_43tB3yt_Qqw0byd4ZT\n",
        "! gdown 1jNgjGidE4FFXPAmcxtmjJbFJeDbB1BZw\n",
        "! gdown 1Z-QfsEes19cAdjqF7WlDCu8Dw-FnyBBd\n",
        "! gdown 18xExKposyAMHBx7kuWYF2T1Pl2oVMlPU"
      ],
      "metadata": {
        "id": "nRJLJ6KxZd0P"
      },
      "execution_count": null,
      "outputs": []
    },
    {
      "cell_type": "code",
      "source": [
        "! unzip -q ByteTrack.zip\n",
        "! unzip -q our_dataset_emb.zip"
      ],
      "metadata": {
        "id": "TmLMx2EoaIMi"
      },
      "execution_count": null,
      "outputs": []
    },
    {
      "cell_type": "markdown",
      "source": [
        "## Install dependencies"
      ],
      "metadata": {
        "id": "9zPU2M0x1CZP"
      }
    },
    {
      "cell_type": "code",
      "source": [
        "! pip install face_recognition\n",
        "\n",
        "from IPython import display\n",
        "display.clear_output()"
      ],
      "metadata": {
        "id": "lTb5BDFHBW0m"
      },
      "execution_count": null,
      "outputs": []
    },
    {
      "cell_type": "code",
      "source": [
        "import os\n",
        "HOME = os.getcwd()\n",
        "print(HOME)"
      ],
      "metadata": {
        "colab": {
          "base_uri": "https://localhost:8080/"
        },
        "id": "cx5cyeDFlWeE",
        "outputId": "994a5d8f-6c65-4084-877b-cecdc10584d4"
      },
      "execution_count": null,
      "outputs": [
        {
          "output_type": "stream",
          "name": "stdout",
          "text": [
            "/content\n"
          ]
        }
      ]
    },
    {
      "cell_type": "code",
      "source": [
        "%cd {HOME}/ByteTrack\n",
        "! wget https://raw.githubusercontent.com/ifzhang/ByteTrack/main/README.md\n",
        "! bash install.sh\n",
        "from IPython import display\n",
        "display.clear_output()"
      ],
      "metadata": {
        "id": "7LFw_kQYlqKZ"
      },
      "execution_count": null,
      "outputs": []
    },
    {
      "cell_type": "code",
      "source": [
        "from yolox.tracker.byte_tracker import BYTETracker\n",
        "from tracker import BYTETrackerArgs, detections2boxes, match_detections_with_tracks\n",
        "from tqdm import tqdm\n",
        "from ultralytics import YOLO\n",
        "import threading\n",
        "import  supervision as sv \n",
        "import numpy as np\n",
        "import cv2\n",
        "import face_recognition"
      ],
      "metadata": {
        "id": "zh3cvmEUmNw0"
      },
      "execution_count": null,
      "outputs": []
    },
    {
      "cell_type": "markdown",
      "source": [
        "## Model declear"
      ],
      "metadata": {
        "id": "2Wfl-Kzd1GFa"
      }
    },
    {
      "cell_type": "code",
      "source": [
        "# MODEL\n",
        "MODEL = \"yolov8x-pose.pt\"\n",
        "model = YOLO(MODEL)\n",
        "# embedding_model = DeepFace.build_model('Dlib')\n",
        "\n",
        "# Tracker\n",
        "byte_tracker = BYTETracker(BYTETrackerArgs())"
      ],
      "metadata": {
        "id": "Ql4pV0xMnG-m"
      },
      "execution_count": null,
      "outputs": []
    },
    {
      "cell_type": "code",
      "source": [
        "SOURCE_VIDEO_PATH = \"/content/main_video.mp4\"\n",
        "TARGET_VIDEO_PATH = \"/content/main_video_output.mp4\"\n",
        "\n",
        "# SOURCE_VIDEO_PATH = \"/content/final_video.mp4\"\n",
        "# TARGET_VIDEO_PATH = \"/content/final_video_output.mp4\""
      ],
      "metadata": {
        "id": "b-CD7hRznQ1K"
      },
      "execution_count": null,
      "outputs": []
    },
    {
      "cell_type": "markdown",
      "source": [
        "## Person identification"
      ],
      "metadata": {
        "id": "FUAwq9llxFZV"
      }
    },
    {
      "cell_type": "markdown",
      "source": [
        "### Load known face encoding"
      ],
      "metadata": {
        "id": "WVGbEwfuxpYW"
      }
    },
    {
      "cell_type": "code",
      "source": [
        "from glob import glob\n",
        "import platform"
      ],
      "metadata": {
        "id": "kNpFHoIVynFU"
      },
      "execution_count": null,
      "outputs": []
    },
    {
      "cell_type": "code",
      "source": [
        "def get_known_face_embedding(path):\n",
        "    \"\"\"\n",
        "    path: dirpath\n",
        "    full path will be: {path}/*/*.npy\n",
        "    \"\"\"\n",
        "    # emb_paths = glob(f\"{path}/*/*.npy\")\n",
        "    emb_paths = glob(f\"{path}/*/*.npy\")\n",
        "    if platform.system() == \"Windows\":\n",
        "        known_face_ids = [x.split(\"\\\\\")[-2] for x in emb_paths]\n",
        "    else:\n",
        "        known_face_ids = [x.split(\"/\")[-2] for x in emb_paths]\n",
        "    known_embedding = []\n",
        "    for emb_path in emb_paths:\n",
        "        known_embedding.append(np.load(emb_path))\n",
        "    return np.array(known_embedding), np.array(known_face_ids)"
      ],
      "metadata": {
        "id": "j6EXgdMcxtgM"
      },
      "execution_count": null,
      "outputs": []
    },
    {
      "cell_type": "code",
      "source": [
        "known_face_embedding, known_face_ids = get_known_face_embedding(\"/content/our_dataset_emb\")\n",
        "known_face_embedding.shape, known_face_ids.shape"
      ],
      "metadata": {
        "id": "c936v63M0HPP",
        "colab": {
          "base_uri": "https://localhost:8080/"
        },
        "outputId": "37879e33-9fd7-4ab1-c0cb-e5bccf728820"
      },
      "execution_count": null,
      "outputs": [
        {
          "output_type": "execute_result",
          "data": {
            "text/plain": [
              "((1761, 128), (1761,))"
            ]
          },
          "metadata": {},
          "execution_count": 13
        }
      ]
    },
    {
      "cell_type": "markdown",
      "source": [
        "### unknowing face encoding"
      ],
      "metadata": {
        "id": "0KUXXLLSxZzR"
      }
    },
    {
      "cell_type": "code",
      "source": [
        "def get_face_locations(boxes, all_keypoints):\n",
        "    \"\"\"\n",
        "    results: yolo model detection results\n",
        "    results = model(img)\n",
        "    \"\"\"\n",
        "    # boxes = np.array(results[0].boxes.data.tolist())\n",
        "    # all_keypoints = np.array(results[0].keypoints.data.tolist())\n",
        "    all_min_x = all_keypoints[:,:5,0].min(axis=1)\n",
        "    all_max_x = all_keypoints[:,:5,0].max(axis=1)\n",
        "    all_mid_x = all_keypoints[:,0,0]\n",
        "\n",
        "    all_min_y = all_keypoints[:,:5,1].min(axis=1)\n",
        "    all_max_y = all_keypoints[:,:5,1].max(axis=1)\n",
        "    all_mid_y = all_keypoints[:,0,1]\n",
        "    distance = np.max(\n",
        "        np.absolute(\n",
        "            [\n",
        "                all_mid_x - all_min_x,\n",
        "                all_max_x - all_mid_x,\n",
        "                all_mid_y - all_min_y,\n",
        "                all_max_y - all_mid_y\n",
        "            ]\n",
        "        ), axis=0\n",
        "    )\n",
        "\n",
        "    y1 = all_mid_y - distance\n",
        "    x2 = all_max_x\n",
        "    y2 = all_mid_y + distance\n",
        "    x1 = all_min_x\n",
        "\n",
        "    face_locations = np.array([y1, x2, y2, x1], dtype=np.int32).T\n",
        "    return face_locations\n"
      ],
      "metadata": {
        "id": "gGD4hEWOxZt1"
      },
      "execution_count": null,
      "outputs": []
    },
    {
      "cell_type": "code",
      "source": [
        "def is_face_available(all_keypoints):\n",
        "    \"\"\"\n",
        "    results: yolo model detection results\n",
        "    results = model(img)\n",
        "    \"\"\"\n",
        "    mask = all_keypoints[:,:3,-1]>.9\n",
        "    count_mask = np.sum(mask, axis=1)\n",
        "    return count_mask == 3\n"
      ],
      "metadata": {
        "id": "3FdcC4Fd7dm4"
      },
      "execution_count": null,
      "outputs": []
    },
    {
      "cell_type": "markdown",
      "source": [
        "## Track_recoder"
      ],
      "metadata": {
        "id": "Put73RXgPgo4"
      }
    },
    {
      "cell_type": "code",
      "source": [
        "from datetime import datetime\n",
        "import pandas as pd\n",
        "import threading\n",
        "import time\n",
        "import numpy as np\n",
        "\n",
        "class TrackRecoder:\n",
        "    def __init__(self):\n",
        "        self.Identified_ids = []\n",
        "        self.Identified_ids_link_person_ids = {}\n",
        "        self.NonIdentified_track_records = {}\n",
        "        self.Identified_track_records = []\n",
        "        self.create_record_file()\n",
        "\n",
        "    def get_time(self):\n",
        "        t = datetime.now()\n",
        "        return f\"{t.year:04}-{t.month:02}-{t.day:02}-{t.hour:02}-{t.minute:02}\"\n",
        "\n",
        "    def create_record_file(self):\n",
        "        t = self.get_time()\n",
        "        self.file_path  = f\"person_track_{t}.csv\"\n",
        "        with open(self.file_path, \"w\") as file:\n",
        "            file.write(\"person_id,x,y,time\")\n",
        "\n",
        "    def update_track(self, records):\n",
        "        \"\"\"\n",
        "        records: list of records\n",
        "        every record\n",
        "        record[0]: track id\n",
        "        record[1]: Identified person id\n",
        "        recode[2]: point x\n",
        "        recode[3]: point y\n",
        "        \"\"\"\n",
        "        t = self.get_time()\n",
        "        \n",
        "        for record in records:\n",
        "            id, person_id, x, y = record\n",
        "\n",
        "            if id not in self.Identified_ids and person_id is not None:\n",
        "                self.Identified_ids.append(id)\n",
        "                self.Identified_ids_link_person_ids[id] = person_id\n",
        "                if id in self.NonIdentified_track_records:\n",
        "                    id_recodes = np.array(self.NonIdentified_track_records[id])\n",
        "                    self.NonIdentified_track_records.pop(id)\n",
        "                    id_recodes[id_recodes==None] = person_id\n",
        "                    self.Identified_track_records += id_recodes.tolist()\n",
        "                    del(id_recodes)\n",
        "\n",
        "\n",
        "\n",
        "            if id in self.Identified_ids:\n",
        "                person_id = self.Identified_ids_link_person_ids[id]\n",
        "                self.Identified_track_records.append([person_id, x, y, t])\n",
        "            elif person_id is None:\n",
        "                if id not in self.NonIdentified_track_records:\n",
        "                    self.NonIdentified_track_records[id] = []\n",
        "                self.NonIdentified_track_records[id].append([person_id, x, y, t])\n",
        "\n",
        "\n",
        "            \n",
        "\n",
        "\n",
        "    def autoUpdate(self):\n",
        "        columns = [\"person_id\", 'x', 'y', \"time\"]\n",
        "        main_df = pd.read_csv(self.file_path)\n",
        "        temp_df = pd.DataFrame(self.Identified_track_records, columns=columns)\n",
        "        self.Identified_track_records = []\n",
        "        main_df = pd.concat([main_df, temp_df], ignore_index=True)\n",
        "        main_df.to_csv(self.file_path, index=False)\n",
        "        del(main_df)\n",
        "        del(temp_df)\n",
        "\n",
        "    def check_NonIdentified_track_records(self):\n",
        "\n",
        "        t = datetime.now()\n",
        "        now_t = t.hour*60 + t.minute\n",
        "        record_keys = list(self.NonIdentified_track_records.keys())  # create a list of keys\n",
        "        keys_to_remove = []\n",
        "        for record in record_keys:\n",
        "            t = self.NonIdentified_track_records[record][-1][-1].split('-')[-2:]\n",
        "            t = int(t[0])*60 + int(t[1])\n",
        "            if abs(now_t - t) > 5:\n",
        "                keys_to_remove.append(record)  # add key to list of keys to remove\n",
        "\n",
        "        # remove the keys outside the loop\n",
        "        for key in keys_to_remove:\n",
        "            self.NonIdentified_track_records.pop(key)\n",
        "\n",
        "    def start_timer(self, interval):\n",
        "        self.interval = interval\n",
        "        self.timer = threading.Timer(self.interval, self.start_timer, args=[self.interval])\n",
        "        self.timer.start()\n",
        "        self.autoUpdate()\n",
        "        self.check_NonIdentified_track_records()\n",
        "\n",
        "    def stop_timer(self):\n",
        "        self.timer.cancel()\n"
      ],
      "metadata": {
        "id": "_IM19fvqPlJ0"
      },
      "execution_count": null,
      "outputs": []
    },
    {
      "cell_type": "markdown",
      "source": [
        "### Face verification"
      ],
      "metadata": {
        "id": "SDnW2rpRFLuI"
      }
    },
    {
      "cell_type": "code",
      "source": [
        "def face_distance(face_encodings, face_to_compare):\n",
        "    \"\"\"\n",
        "    face_encodings.shape = (n, 128)\n",
        "    face_to_compare.shape = (k, 128)\n",
        "    return_value = np.linalg.norm(face_encodings - face_to_compare, axis=1)\n",
        "    return_value.shape = (k,)\n",
        "    but i want to return shape = (n,k)\n",
        "    \"\"\"\n",
        "    if len(face_encodings) == 0:\n",
        "        return np.empty((0))\n",
        "    return np.linalg.norm(face_encodings[:, np.newaxis, :] - face_to_compare[np.newaxis, :, :], axis=-1)"
      ],
      "metadata": {
        "id": "eWNMGSTfFGEE"
      },
      "execution_count": null,
      "outputs": []
    },
    {
      "cell_type": "code",
      "source": [
        "def findCosineDistance(source_representation, test_representation):\n",
        "    \"\"\"\n",
        "    source_representation.shape = (n,128)\n",
        "    test_representation.shape = (k,128)\n",
        "    return shape = (n,k)\n",
        "    \"\"\"\n",
        "    a = np.matmul(source_representation, test_representation.T)\n",
        "    b = np.sum(np.multiply(source_representation, source_representation), axis=1, keepdims=True)\n",
        "    c = np.sum(np.multiply(test_representation, test_representation), axis=1, keepdims=True)\n",
        "    return 1 - (a / (np.sqrt(b) * np.sqrt(c)))"
      ],
      "metadata": {
        "id": "1d1XgWmPFcRH"
      },
      "execution_count": null,
      "outputs": []
    },
    {
      "cell_type": "code",
      "source": [
        "thresholds = {\n",
        "        \"Dlib\": {\"cosine\": 0.07, \"linalg\": 0.5}\n",
        "    }"
      ],
      "metadata": {
        "id": "im90dO2KFkUJ"
      },
      "execution_count": null,
      "outputs": []
    },
    {
      "cell_type": "code",
      "source": [
        "def face_verification(\n",
        "    known_face_embedding, test_embedding, known_face_ids, threshold=0.6, distance_type='linalg'):\n",
        "    \"\"\"\n",
        "    known_face_embedding.shape = (n,128)\n",
        "    test_embedding.shape = (k,128)\n",
        "    known_face_ids.shape = (n,)\n",
        "    \"\"\"\n",
        "    known_face_ids = np.array(known_face_ids)\n",
        "    if distance_type == \"linalg\":\n",
        "        face_distances = face_distance(known_face_embedding, test_embedding)\n",
        "    else:\n",
        "        face_distances = findCosineDistance(known_face_embedding, test_embedding)\n",
        "    faceDis = face_distances.min(axis=0)\n",
        "    arg_min = face_distances.argmin(axis=0)\n",
        "    ids = known_face_ids[arg_min]\n",
        "    ids = np.where(faceDis<=threshold, ids, None)\n",
        "    return ids\n",
        "\n"
      ],
      "metadata": {
        "id": "rRDwvKpNGuvg"
      },
      "execution_count": null,
      "outputs": []
    },
    {
      "cell_type": "code",
      "source": [
        "def get_person_ids(\n",
        "    face_locations, face_available, boxes_conf,\n",
        "    known_face_embedding, known_face_ids,\n",
        "    trackId, recorder, threshold=0.6, distance_type='linalg'\n",
        "):\n",
        "    Identified_ids = recorder.Identified_ids\n",
        "    # trackId = detections.tracker_id\n",
        "    isin_trackId = np.isin(trackId, Identified_ids, invert=True)\n",
        "    is_boxes = boxes_conf > .4\n",
        "    is_face_check = isin_trackId & face_available & is_boxes\n",
        "\n",
        "    embeddings = []\n",
        "\n",
        "\n",
        "    \"\"\"_________________________________________\"\"\"\n",
        "    check_location = []\n",
        "    for i in range(trackId.shape[0]):\n",
        "        if is_face_check[i]:\n",
        "            check_location.append(face_locations[i])\n",
        "    check_location = np.array(check_location)\n",
        "    embeddings = face_recognition.face_encodings(frame, check_location)\n",
        "    \"\"\"_________________________________________\"\"\"\n",
        "    embeddings = np.array(embeddings)\n",
        "    # print(embeddings.shape)\n",
        "    if embeddings.shape[0] > 0:\n",
        "        ids = face_verification(known_face_embedding, embeddings, known_face_ids,\n",
        "                            threshold=threshold, distance_type='linalg')\n",
        "\n",
        "    lables = []\n",
        "    j = 0\n",
        "    for i in range(face_locations.shape[0]):\n",
        "        try:\n",
        "            if not isin_trackId[i]:\n",
        "                lables.append(recorder.Identified_ids_link_person_ids[trackId[i]])\n",
        "            elif is_face_check[i]:\n",
        "                lables.append(ids[j])\n",
        "                j+=1\n",
        "            else:\n",
        "                lables.append(None)\n",
        "        except Exception as e:\n",
        "            raise Exception(f\"{e}\")\n",
        "    \n",
        "\n",
        "\n",
        "    \"\"\"___________________duplicate value check____________________\"\"\"\n",
        "    np_labels = np.array(lables)\n",
        "    valid_indices = np.where(np_labels != None)[0]\n",
        "    filtered_lables = np_labels[valid_indices]\n",
        "    if len(filtered_lables)>0:\n",
        "      \n",
        "      print(filtered_lables)\n",
        "      if np.unique(filtered_lables, return_counts=True)[1].max() > 1:\n",
        "          labels_dict = {}\n",
        "          for i in range(face_locations.shape[0]):\n",
        "              if lables[i]:\n",
        "                if lables[i] not in labels_dict:\n",
        "                    labels_dict[lables[i]] = []\n",
        "                labels_dict[lables[i]].append(trackId[i])\n",
        "          labels_dict = {k: sorted(v) for k, v in labels_dict.items()}\n",
        "          for k, v in labels_dict.items():\n",
        "              for duplicate_id in v[:-1]:\n",
        "                  if duplicate_id in recorder.Identified_ids:\n",
        "                      recorder.Identified_ids.remove(duplicate_id)\n",
        "                      indices = np.where(trackId == duplicate_id)[0][0]\n",
        "                      lables[indices]=None\n",
        "\n",
        "    \"\"\"___________________duplicate value check____________________\"\"\"\n",
        "\n",
        "\n",
        "    return lables"
      ],
      "metadata": {
        "id": "hCea66L7SBb5"
      },
      "execution_count": null,
      "outputs": []
    },
    {
      "cell_type": "markdown",
      "source": [
        "### Utilits"
      ],
      "metadata": {
        "id": "Ap88ZzcRM-WB"
      }
    },
    {
      "cell_type": "code",
      "source": [
        "def get_records(detections, ids, all_keypoints):\n",
        "    a = detections.tracker_id.copy()\n",
        "    b = np.array(ids, dtype=object)\n",
        "    c =  all_keypoints[:,0,:2].astype(np.int32).copy() # shape (6,2)\n",
        "\n",
        "    # Reshape `a` and `b` to column vectors\n",
        "    a = np.reshape(a, (-1, 1))\n",
        "    b = np.reshape(b, (-1, 1))\n",
        "    # Concatenate `a`, `b`, and `c` along axis 1\n",
        "    return np.concatenate((a, b, c), axis=1)"
      ],
      "metadata": {
        "id": "K8iBUk1NM-OW"
      },
      "execution_count": null,
      "outputs": []
    },
    {
      "cell_type": "markdown",
      "source": [
        "# main function"
      ],
      "metadata": {
        "id": "Fs9EbtVQa3Dy"
      }
    },
    {
      "cell_type": "code",
      "source": [
        "name_df = pd.read_csv(\"/content/our_dataset_emb/info.csv\")\n",
        "name_df['Roll'] = name_df['Roll'].astype(str)\n",
        "name_dict = name_df.set_index('Roll')['Name'].to_dict()\n",
        "name_dict"
      ],
      "metadata": {
        "id": "KtmLUkB14dZA"
      },
      "execution_count": null,
      "outputs": []
    },
    {
      "cell_type": "code",
      "source": [
        "attendace_dict = {}\n",
        "attendace_count = 0"
      ],
      "metadata": {
        "id": "21dcW3dbw1zV"
      },
      "execution_count": null,
      "outputs": []
    },
    {
      "cell_type": "code",
      "source": [
        "# Tracker\n",
        "import time\n",
        "\n",
        "byte_tracker = BYTETracker(BYTETrackerArgs())\n",
        "\n",
        "\n",
        "# # Known face encoding\n",
        "# personIdentification = PersonIdentityDetection()\n",
        "# known_encodings, known_face_ids  = personIdentification.get_knownFaceEncoding_label(\"data/known_face\")\n",
        "\n",
        "\n",
        "# Record\n",
        "recorder = TrackRecoder()\n",
        "recorder.start_timer(60)\n",
        "\n",
        "# SOURCE_VIDEO_PATH = \"data/input/kitiParty.mp4\"\n",
        "# TARGET_VIDEO_PATH = \"data/output/kitiParty.mp4\"\n",
        "\n",
        "\n",
        "\n",
        "generator = sv.get_video_frames_generator(SOURCE_VIDEO_PATH)\n",
        "\n",
        "# create instance of BoxAnnotator\n",
        "annotator = sv.BoxAnnotator(thickness=2, text_thickness=1, text_scale=1)\n",
        "# create VideoInfo instance\n",
        "video_info = sv.VideoInfo.from_video_path(SOURCE_VIDEO_PATH)\n",
        "\n",
        "\n",
        "start_time = time.perf_counter ()\n",
        "fps = 8\n",
        "fps_count = 0\n",
        "# create instance of VideoWriter\n",
        "with sv.VideoSink(TARGET_VIDEO_PATH, video_info) as writer:\n",
        "    for frame in tqdm(generator, total=video_info.total_frames):\n",
        "        # get boxes\n",
        "        results = model(frame)[0]\n",
        "        detections = sv.Detections.from_yolov8(results)\n",
        "        if detections.class_id.shape[0]!=0:\n",
        "            tracks = byte_tracker.update(\n",
        "                output_results=detections2boxes(detections=detections),\n",
        "                img_info=frame.shape,\n",
        "                img_size=frame.shape\n",
        "            )\n",
        "\n",
        "            tracker_id = match_detections_with_tracks(detections=detections, tracks=tracks)\n",
        "            detections.tracker_id = np.array(tracker_id)\n",
        "\n",
        "\n",
        "\n",
        "            # filtering out detections without trackers\n",
        "            mask = np.array([tracker_id is not None  for tracker_id in detections.tracker_id], dtype=bool)\n",
        "            detections.filter(mask=mask, inplace=True)\n",
        "            detections.xyxy = detections.xyxy.astype('int32')\n",
        "\n",
        "\n",
        "            boxes = results.boxes.xyxy.cpu().numpy()[mask==True]\n",
        "            boxes_conf = results.boxes.conf.cpu().numpy()[mask==True]\n",
        "            all_keypoints = results.keypoints.cpu().numpy()[mask==True]\n",
        "            face_locations = get_face_locations(boxes, all_keypoints)\n",
        "            face_available = is_face_available(all_keypoints)\n",
        "            \n",
        "\n",
        "\n",
        "            ids = get_person_ids(\n",
        "                face_locations, face_available, boxes_conf,\n",
        "                known_face_embedding, known_face_ids,\n",
        "                detections.tracker_id, recorder, threshold=0.4, distance_type='linalg'\n",
        "            )\n",
        "            records = get_records(detections, ids, all_keypoints)\n",
        "            recorder.update_track(records)\n",
        "            \n",
        "            \n",
        "\n",
        "            # draw frame\n",
        "            fps_count += 1\n",
        "            end_time = time.perf_counter ()\n",
        "            if end_time - start_time >= 1.:\n",
        "                start_time = time.perf_counter ()\n",
        "                fps = fps_count\n",
        "                fps_count = 0\n",
        "\n",
        "\n",
        "            cv2.putText(frame, f\"FPS: {fps}\", (10, 30), cv2.FONT_HERSHEY_SIMPLEX, 1, (0, 0, 255), 2)\n",
        "            # frame = annotator.annotate(scene=frame, detections=detections, labels=ids)\n",
        "            \"________________________________________\"\n",
        "            # new add\n",
        "            labels = [None]*len(ids)\n",
        "            for i, id in enumerate(ids):\n",
        "                if id:\n",
        "                    labels[i] = f\"{id} {name_dict[id]}\"\n",
        "\n",
        "            frame = annotator.annotate(scene=frame, detections=detections, labels=labels)\n",
        "            \"________________________________________\"\n",
        "\n",
        "\n",
        "            \"___________________Start Take Attendance______________________\"\n",
        "            # attendace_count += 1\n",
        "            # for label in ids:\n",
        "            #     if label:\n",
        "            #         if label not in attendace_dict.keys():\n",
        "            #             attendace_dict[label] = attendace_count\n",
        "            \n",
        "            \"___________________End Take Attendance________________________\"\n",
        "\n",
        "\n",
        "        # write frame\n",
        "        writer.write_frame(frame)\n",
        "recorder.stop_timer()\n",
        "\n",
        "print(attendace_dict)"
      ],
      "metadata": {
        "id": "_-1fXd20a27P"
      },
      "execution_count": null,
      "outputs": []
    }
  ]
}